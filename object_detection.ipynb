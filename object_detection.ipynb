{
 "cells": [
  {
   "cell_type": "markdown",
   "metadata": {
    "colab_type": "text",
    "id": "V8-yl-s-WKMG"
   },
   "source": [
    "# Object Detection Demo\n",
    "Based on Tensorflow Object Detection. Detecting Traffic and More"
   ]
  },
  {
   "cell_type": "markdown",
   "metadata": {
    "colab_type": "text",
    "id": "kFSqkTCdWKMI"
   },
   "source": [
    "# Imports"
   ]
  },
  {
   "cell_type": "code",
   "execution_count": 1,
   "metadata": {
    "colab": {
     "autoexec": {
      "startup": false,
      "wait_interval": 0
     }
    },
    "colab_type": "code",
    "id": "hV4P5gyTWKMI"
   },
   "outputs": [],
   "source": [
    "import numpy as np\n",
    "import os\n",
    "import six.moves.urllib as urllib\n",
    "import sys\n",
    "import tarfile\n",
    "import tensorflow as tf\n",
    "import zipfile\n",
    "\n",
    "from distutils.version import StrictVersion\n",
    "from collections import defaultdict\n",
    "from io import StringIO\n",
    "\n",
    "from PIL import Image\n",
    "\n",
    "# This is needed since the notebook is stored in the object_detection folder.\n",
    "sys.path.append(\"..\")\n",
    "from object_detection.utils import ops as utils_ops\n",
    "\n",
    "if StrictVersion(tf.__version__) < StrictVersion('1.9.0'):\n",
    "  raise ImportError('Please upgrade your TensorFlow installation to v1.9.* or later!')\n"
   ]
  },
  {
   "cell_type": "code",
   "execution_count": 2,
   "metadata": {},
   "outputs": [],
   "source": [
    "import cv2\n",
    "# import time\n",
    "cap = cv2.VideoCapture(\"Traffic 02.mp4\")\n",
    "width = int(cap.get(cv2.CAP_PROP_FRAME_WIDTH))\n",
    "height = int(cap.get(cv2.CAP_PROP_FRAME_HEIGHT))\n",
    "writer = cv2.VideoWriter('Traffic Detection23.mp4', cv2.VideoWriter_fourcc(*'XVID'),13, (width, height))"
   ]
  },
  {
   "cell_type": "markdown",
   "metadata": {
    "colab_type": "text",
    "id": "Wy72mWwAWKMK"
   },
   "source": [
    "## Env setup"
   ]
  },
  {
   "cell_type": "code",
   "execution_count": 3,
   "metadata": {
    "colab": {
     "autoexec": {
      "startup": false,
      "wait_interval": 0
     }
    },
    "colab_type": "code",
    "id": "v7m_NY_aWKMK"
   },
   "outputs": [],
   "source": [
    "# This is needed to display the images.\n",
    "%matplotlib inline\n",
    "import matplotlib.pyplot as plt"
   ]
  },
  {
   "cell_type": "markdown",
   "metadata": {
    "colab_type": "text",
    "id": "r5FNuiRPWKMN"
   },
   "source": [
    "## Object detection imports\n",
    "Here are the imports from the object detection module."
   ]
  },
  {
   "cell_type": "code",
   "execution_count": 4,
   "metadata": {
    "colab": {
     "autoexec": {
      "startup": false,
      "wait_interval": 0
     }
    },
    "colab_type": "code",
    "id": "bm0_uNRnWKMN"
   },
   "outputs": [],
   "source": [
    "from utils import label_map_util\n",
    "\n",
    "from utils import visualization_utils as vis_util"
   ]
  },
  {
   "cell_type": "markdown",
   "metadata": {
    "colab_type": "text",
    "id": "cfn_tRFOWKMO"
   },
   "source": [
    "# Model preparation "
   ]
  },
  {
   "cell_type": "markdown",
   "metadata": {
    "colab_type": "text",
    "id": "X_sEBLpVWKMQ"
   },
   "source": [
    "## Variables\n",
    "\n",
    "Any model exported using the `export_inference_graph.py` tool can be loaded here simply by changing `PATH_TO_FROZEN_GRAPH` to point to a new .pb file.  \n",
    "\n",
    "By default we use an \"SSD with Mobilenet\" model here. See the [detection model zoo](https://github.com/tensorflow/models/blob/master/research/object_detection/g3doc/detection_model_zoo.md) for a list of other models that can be run out-of-the-box with varying speeds and accuracies."
   ]
  },
  {
   "cell_type": "code",
   "execution_count": 5,
   "metadata": {
    "colab": {
     "autoexec": {
      "startup": false,
      "wait_interval": 0
     }
    },
    "colab_type": "code",
    "id": "VyPz_t8WWKMQ"
   },
   "outputs": [],
   "source": [
    "# What model to download.\n",
    "MODEL_NAME = 'faster_rcnn_resnet101_coco_11_06_2017'\n",
    "# MODEL_FILE = MODEL_NAME + '.tar.gz'\n",
    "# DOWNLOAD_BASE = 'http://download.tensorflow.org/models/object_detection/'\n",
    "\n",
    "# Path to frozen detection graph. This is the actual model that is used for the object detection.\n",
    "# PATH_TO_FROZEN_GRAPH = MODEL_NAME + '/frozen_inference_graph.pb'\n",
    "PATH_TO_FROZEN_GRAPH = os.path.join('faster_rcnn_inception_resnet_v2_atrous_coco_11_06_2017', 'frozen_inference_graph.pb')\n",
    "# List of the strings that is used to add correct label for each box.\n",
    "PATH_TO_LABELS = os.path.join('data', 'mscoco_label_map.pbtxt')"
   ]
  },
  {
   "cell_type": "markdown",
   "metadata": {
    "colab_type": "text",
    "id": "7ai8pLZZWKMS"
   },
   "source": [
    "## Download Model"
   ]
  },
  {
   "cell_type": "code",
   "execution_count": 6,
   "metadata": {
    "colab": {
     "autoexec": {
      "startup": false,
      "wait_interval": 0
     }
    },
    "colab_type": "code",
    "id": "KILYnwR5WKMS"
   },
   "outputs": [],
   "source": [
    "# opener = urllib.request.URLopener()\n",
    "# opener.retrieve(DOWNLOAD_BASE + MODEL_FILE, MODEL_FILE)\n",
    "# tar_file = tarfile.open(MODEL_FILE)\n",
    "# for file in tar_file.getmembers():\n",
    "#   file_name = os.path.basename(file.name)\n",
    "#   if 'frozen_inference_graph.pb' in file_name:\n",
    "#     tar_file.extract(file, os.getcwd())"
   ]
  },
  {
   "cell_type": "markdown",
   "metadata": {
    "colab_type": "text",
    "id": "YBcB9QHLWKMU"
   },
   "source": [
    "## Load a (frozen) Tensorflow model into memory."
   ]
  },
  {
   "cell_type": "code",
   "execution_count": 7,
   "metadata": {
    "colab": {
     "autoexec": {
      "startup": false,
      "wait_interval": 0
     }
    },
    "colab_type": "code",
    "id": "KezjCRVvWKMV"
   },
   "outputs": [],
   "source": [
    "detection_graph = tf.Graph()\n",
    "with detection_graph.as_default():\n",
    "  od_graph_def = tf.GraphDef()\n",
    "  with tf.gfile.GFile(PATH_TO_FROZEN_GRAPH, 'rb') as fid:\n",
    "    serialized_graph = fid.read()\n",
    "    od_graph_def.ParseFromString(serialized_graph)\n",
    "    tf.import_graph_def(od_graph_def, name='')"
   ]
  },
  {
   "cell_type": "markdown",
   "metadata": {
    "colab_type": "text",
    "id": "_1MVVTcLWKMW"
   },
   "source": [
    "## Loading label map\n",
    "Label maps map indices to category names, so that when our convolution network predicts `5`, we know that this corresponds to `airplane`.  Here we use internal utility functions, but anything that returns a dictionary mapping integers to appropriate string labels would be fine"
   ]
  },
  {
   "cell_type": "code",
   "execution_count": 8,
   "metadata": {
    "colab": {
     "autoexec": {
      "startup": false,
      "wait_interval": 0
     }
    },
    "colab_type": "code",
    "id": "hDbpHkiWWKMX"
   },
   "outputs": [
    {
     "name": "stdout",
     "output_type": "stream",
     "text": [
      "{1: {'id': 1, 'name': 'person'}, 2: {'id': 2, 'name': 'bicycle'}, 3: {'id': 3, 'name': 'car'}, 4: {'id': 4, 'name': 'motorcycle'}, 5: {'id': 5, 'name': 'airplane'}, 6: {'id': 6, 'name': 'bus'}, 7: {'id': 7, 'name': 'train'}, 8: {'id': 8, 'name': 'truck'}, 9: {'id': 9, 'name': 'boat'}, 10: {'id': 10, 'name': 'traffic light'}, 11: {'id': 11, 'name': 'fire hydrant'}, 13: {'id': 13, 'name': 'stop sign'}, 14: {'id': 14, 'name': 'parking meter'}, 15: {'id': 15, 'name': 'bench'}, 16: {'id': 16, 'name': 'bird'}, 17: {'id': 17, 'name': 'cat'}, 18: {'id': 18, 'name': 'dog'}, 19: {'id': 19, 'name': 'horse'}, 20: {'id': 20, 'name': 'sheep'}, 21: {'id': 21, 'name': 'cow'}, 22: {'id': 22, 'name': 'elephant'}, 23: {'id': 23, 'name': 'bear'}, 24: {'id': 24, 'name': 'zebra'}, 25: {'id': 25, 'name': 'giraffe'}, 27: {'id': 27, 'name': 'backpack'}, 28: {'id': 28, 'name': 'umbrella'}, 31: {'id': 31, 'name': 'handbag'}, 32: {'id': 32, 'name': 'tie'}, 33: {'id': 33, 'name': 'suitcase'}, 34: {'id': 34, 'name': 'frisbee'}, 35: {'id': 35, 'name': 'skis'}, 36: {'id': 36, 'name': 'snowboard'}, 37: {'id': 37, 'name': 'sports ball'}, 38: {'id': 38, 'name': 'kite'}, 39: {'id': 39, 'name': 'baseball bat'}, 40: {'id': 40, 'name': 'baseball glove'}, 41: {'id': 41, 'name': 'skateboard'}, 42: {'id': 42, 'name': 'surfboard'}, 43: {'id': 43, 'name': 'tennis racket'}, 44: {'id': 44, 'name': 'bottle'}, 46: {'id': 46, 'name': 'wine glass'}, 47: {'id': 47, 'name': 'cup'}, 48: {'id': 48, 'name': 'fork'}, 49: {'id': 49, 'name': 'knife'}, 50: {'id': 50, 'name': 'spoon'}, 51: {'id': 51, 'name': 'bowl'}, 52: {'id': 52, 'name': 'banana'}, 53: {'id': 53, 'name': 'apple'}, 54: {'id': 54, 'name': 'sandwich'}, 55: {'id': 55, 'name': 'orange'}, 56: {'id': 56, 'name': 'broccoli'}, 57: {'id': 57, 'name': 'carrot'}, 58: {'id': 58, 'name': 'hot dog'}, 59: {'id': 59, 'name': 'pizza'}, 60: {'id': 60, 'name': 'donut'}, 61: {'id': 61, 'name': 'cake'}, 62: {'id': 62, 'name': 'chair'}, 63: {'id': 63, 'name': 'couch'}, 64: {'id': 64, 'name': 'potted plant'}, 65: {'id': 65, 'name': 'bed'}, 67: {'id': 67, 'name': 'dining table'}, 70: {'id': 70, 'name': 'toilet'}, 72: {'id': 72, 'name': 'tv'}, 73: {'id': 73, 'name': 'laptop'}, 74: {'id': 74, 'name': 'mouse'}, 75: {'id': 75, 'name': 'remote'}, 76: {'id': 76, 'name': 'keyboard'}, 77: {'id': 77, 'name': 'cell phone'}, 78: {'id': 78, 'name': 'microwave'}, 79: {'id': 79, 'name': 'oven'}, 80: {'id': 80, 'name': 'toaster'}, 81: {'id': 81, 'name': 'sink'}, 82: {'id': 82, 'name': 'refrigerator'}, 84: {'id': 84, 'name': 'book'}, 85: {'id': 85, 'name': 'clock'}, 86: {'id': 86, 'name': 'vase'}, 87: {'id': 87, 'name': 'scissors'}, 88: {'id': 88, 'name': 'teddy bear'}, 89: {'id': 89, 'name': 'hair drier'}, 90: {'id': 90, 'name': 'toothbrush'}}\n"
     ]
    }
   ],
   "source": [
    "category_index = label_map_util.create_category_index_from_labelmap(PATH_TO_LABELS, use_display_name=True)\n",
    "print(category_index)"
   ]
  },
  {
   "cell_type": "markdown",
   "metadata": {
    "colab_type": "text",
    "id": "H0_1AGhrWKMc"
   },
   "source": [
    "# Detection"
   ]
  },
  {
   "cell_type": "code",
   "execution_count": 9,
   "metadata": {
    "colab": {
     "autoexec": {
      "startup": false,
      "wait_interval": 0
     }
    },
    "colab_type": "code",
    "id": "3a5wMHN8WKMh"
   },
   "outputs": [
    {
     "name": "stdout",
     "output_type": "stream",
     "text": [
      "['车辆:4', '皮卡车:1', '交通灯:5', '人:7', '长型车:1']\n",
      "['车辆:4', '皮卡车:1', '交通灯:5', '长型车:1', '人:4', '狗:1']\n",
      "['车辆:4', '皮卡车:1', '交通灯:5', '长型车:1', '人:3', '狗:1']\n",
      "['车辆:4', '皮卡车:1', '交通灯:5', '人:8', '狗:1', '长型车:1']\n",
      "['车辆:4', '皮卡车:1', '交通灯:5', '人:8', '长型车:1', '狗:1']\n",
      "['车辆:4', '皮卡车:1', '交通灯:5', '人:7', '长型车:1', '狗:1']\n",
      "['车辆:4', '皮卡车:1', '交通灯:5', '人:9', '长型车:1', '狗:1']\n",
      "['车辆:4', '皮卡车:1', '长型车:1', '交通灯:5', '人:7']\n",
      "['车辆:4', '皮卡车:1', '长型车:1', '人:6', '交通灯:5', '狗:1']\n",
      "['车辆:4', '长型车:1', '皮卡车:1', '人:6', '交通灯:5', '狗:1']\n",
      "['车辆:4', '长型车:1', '皮卡车:1', '人:6', '交通灯:5', '狗:1']\n",
      "['车辆:5', '皮卡车:1', '交通灯:5', '人:8', '长型车:1']\n",
      "['车辆:5', '皮卡车:1', '交通灯:5', '人:8', '长型车:1']\n",
      "['车辆:6', '皮卡车:1', '人:9', '交通灯:5', '长型车:1', '狗:1']\n",
      "['车辆:6', '皮卡车:1', '人:9', '交通灯:5', '长型车:1', '狗:1']\n",
      "['车辆:6', '皮卡车:1', '人:9', '交通灯:5', '长型车:1', '狗:1']\n",
      "['车辆:5', '皮卡车:1', '人:6', '交通灯:5', '长型车:1', '狗:1']\n",
      "['车辆:4', '皮卡车:1', '长型车:1', '人:7', '交通灯:5', '狗:1']\n",
      "['车辆:4', '皮卡车:1', '人:7', '交通灯:5', '长型车:1']\n",
      "['车辆:6', '皮卡车:1', '人:6', '交通灯:5', '狗:1']\n",
      "['车辆:4', '皮卡车:1', '交通灯:5', '人:6', '长型车:1']\n",
      "['车辆:4', '皮卡车:1', '人:8', '交通灯:5']\n",
      "['车辆:5', '皮卡车:1', '人:10', '交通灯:5', '长型车:1']\n",
      "['皮卡车:1', '车辆:6', '人:9', '交通灯:4', '长型车:1']\n",
      "['皮卡车:1', '车辆:5', '交通灯:5', '人:8', '狗:1', '长型车:1']\n",
      "['皮卡车:1', '车辆:5', '交通灯:5', '人:8', '长型车:1', '狗:1']\n",
      "['车辆:6', '皮卡车:1', '长型车:1', '交通灯:5', '人:8']\n",
      "['车辆:6', '皮卡车:1', '长型车:1', '交通灯:5', '人:8']\n",
      "['车辆:7', '皮卡车:1', '长型车:1', '人:7', '交通灯:5', '狗:1']\n",
      "['车辆:7', '皮卡车:1', '人:9', '交通灯:5', '长型车:1']\n",
      "['车辆:5', '皮卡车:1', '人:10', '交通灯:5', '长型车:1']\n",
      "['车辆:5', '皮卡车:1', '交通灯:5', '人:9', '长型车:1']\n",
      "['车辆:5', '皮卡车:1', '交通灯:5', '人:9', '长型车:1']\n",
      "['车辆:6', '皮卡车:1', '交通灯:5', '长型车:1', '人:9']\n",
      "['车辆:6', '皮卡车:2', '交通灯:5', '人:9', '长型车:1']\n",
      "['车辆:5', '皮卡车:2', '交通灯:5', '人:11', '长型车:1']\n",
      "['车辆:5', '皮卡车:2', '交通灯:5', '人:10', '长型车:1']\n",
      "['车辆:5', '皮卡车:2', '交通灯:5', '人:7']\n",
      "['车辆:5', '交通灯:5', '皮卡车:2', '人:9', '长型车:1']\n",
      "['车辆:5', '人:7', '皮卡车:2', '交通灯:5']\n",
      "['车辆:6', '皮卡车:2', '人:6', '交通灯:5']\n",
      "['车辆:5', '人:5', '交通灯:5', '皮卡车:2', '长型车:1']\n",
      "['车辆:5', '交通灯:5', '皮卡车:2', '人:5', '长型车:1']\n",
      "['车辆:5', '皮卡车:2', '交通灯:5', '人:7', '长型车:1']\n",
      "['车辆:5', '皮卡车:2', '交通灯:5', '人:5', '长型车:1']\n",
      "['车辆:5', '皮卡车:2', '交通灯:5', '人:5', '长型车:1']\n",
      "['车辆:6', '皮卡车:2', '交通灯:4', '人:5']\n",
      "['车辆:6', '皮卡车:2', '交通灯:4', '人:6']\n",
      "['车辆:6', '皮卡车:2', '交通灯:4', '人:6']\n",
      "['车辆:7', '皮卡车:2', '交通灯:4', '人:9']\n",
      "['车辆:7', '皮卡车:2', '交通灯:4', '人:8']\n",
      "['车辆:6', '皮卡车:2', '交通灯:4', '人:8']\n",
      "['车辆:5', '皮卡车:2', '人:9', '交通灯:5']\n",
      "['车辆:5', '皮卡车:2', '人:9', '交通灯:5']\n",
      "['车辆:5', '皮卡车:2', '交通灯:5', '人:7', '长型车:1']\n",
      "['车辆:5', '皮卡车:2', '交通灯:5', '人:7']\n",
      "['车辆:6', '皮卡车:2', '交通灯:5', '人:7']\n",
      "['车辆:6', '皮卡车:2', '交通灯:5', '人:8']\n",
      "['车辆:6', '皮卡车:2', '人:11', '交通灯:5']\n",
      "['车辆:7', '皮卡车:2', '交通灯:5', '人:9']\n",
      "['车辆:7', '皮卡车:2', '交通灯:5', '人:9']\n",
      "['车辆:6', '皮卡车:2', '人:9', '交通灯:4']\n",
      "['车辆:6', '皮卡车:2', '人:8', '交通灯:4']\n",
      "['皮卡车:2', '车辆:6', '交通灯:4', '人:11']\n",
      "['车辆:6', '皮卡车:2', '人:8', '交通灯:4', '狗:1']\n",
      "['皮卡车:1', '车辆:6', '交通灯:5', '人:9']\n",
      "['皮卡车:1', '交通灯:5', '车辆:6', '人:7', '狗:1']\n",
      "['皮卡车:1', '交通灯:4', '车辆:5', '人:7']\n",
      "['皮卡车:1', '交通灯:4', '车辆:6', '人:9']\n",
      "['皮卡车:1', '交通灯:4', '车辆:6', '人:10']\n",
      "['皮卡车:1', '车辆:7', '交通灯:5', '人:9']\n",
      "['皮卡车:1', '车辆:6', '交通灯:5', '人:12']\n",
      "['皮卡车:1', '车辆:6', '交通灯:4', '人:11']\n",
      "['皮卡车:1', '交通灯:5', '车辆:6', '人:7']\n",
      "['人:9', '交通灯:5', '车辆:6', '皮卡车:1']\n",
      "['交通灯:5', '皮卡车:1', '车辆:6', '人:9']\n",
      "['皮卡车:1', '交通灯:5', '人:10', '车辆:6']\n",
      "['车辆:6', '皮卡车:1', '交通灯:5', '人:9']\n",
      "['车辆:6', '皮卡车:1', '交通灯:5', '人:12']\n",
      "['车辆:6', '皮卡车:1', '交通灯:5', '人:10']\n",
      "['车辆:5', '皮卡车:1', '交通灯:5', '人:9']\n",
      "['车辆:5', '皮卡车:1', '交通灯:5', '人:7']\n",
      "['车辆:5', '人:8', '交通灯:5', '皮卡车:1']\n",
      "['车辆:5', '人:9', '交通灯:5', '皮卡车:1']\n",
      "['人:10', '车辆:6', '交通灯:5', '皮卡车:1']\n",
      "['人:8', '车辆:5', '交通灯:5', '皮卡车:1']\n",
      "['人:7', '皮卡车:1', '车辆:4', '交通灯:5']\n",
      "['人:10', '车辆:4', '皮卡车:1', '交通灯:4']\n",
      "['车辆:5', '交通灯:5', '皮卡车:1', '人:7']\n",
      "['车辆:5', '皮卡车:1', '交通灯:5', '人:7']\n",
      "['皮卡车:2', '人:10', '交通灯:5', '车辆:5']\n",
      "['皮卡车:1', '人:9', '车辆:4', '交通灯:5']\n",
      "['人:7', '车辆:3', '皮卡车:1', '交通灯:5', '长型车:1']\n",
      "['人:7', '车辆:3', '皮卡车:1', '交通灯:5', '长型车:1']\n",
      "['车辆:3', '皮卡车:1', '交通灯:4', '人:9', '长型车:1']\n",
      "['车辆:3', '皮卡车:2', '交通灯:4', '人:10']\n",
      "['车辆:3', '皮卡车:2', '交通灯:4', '人:10']\n",
      "['车辆:3', '皮卡车:2', '人:11', '交通灯:4']\n",
      "['皮卡车:2', '车辆:3', '交通灯:4', '人:7']\n",
      "['皮卡车:2', '人:11', '车辆:3', '交通灯:4']\n",
      "['皮卡车:2', '车辆:4', '人:10', '交通灯:4']\n",
      "['车辆:4', '皮卡车:2', '交通灯:5', '人:10']\n",
      "['车辆:4', '皮卡车:1', '交通灯:4', '人:10']\n",
      "['车辆:4', '皮卡车:1', '交通灯:4', '人:9']\n",
      "['皮卡车:1', '车辆:6', '交通灯:4', '人:10']\n",
      "['皮卡车:1', '车辆:5', '交通灯:4', '人:12']\n",
      "['皮卡车:1', '交通灯:4', '车辆:5', '人:10']\n",
      "['皮卡车:1', '车辆:5', '交通灯:4', '人:8']\n",
      "['皮卡车:1', '交通灯:4', '车辆:2', '人:9', '狗:1']\n",
      "['皮卡车:1', '车辆:2', '交通灯:5', '人:11', '狗:1']\n",
      "['皮卡车:1', '狗:1', '交通灯:5', '人:10', '车辆:2']\n",
      "['皮卡车:1', '狗:1', '交通灯:5', '人:11', '车辆:2']\n",
      "['皮卡车:1', '人:12', '狗:1', '交通灯:4', '车辆:3']\n",
      "['皮卡车:1', '人:11', '交通灯:4', '车辆:2', '狗:1']\n",
      "['人:14', '皮卡车:1', '交通灯:4', '车辆:3']\n",
      "['人:14', '皮卡车:1', '交通灯:4', '车辆:1']\n",
      "['皮卡车:1', '车辆:2', '交通灯:5', '人:9', '狗:1']\n",
      "['皮卡车:2', '车辆:2', '交通灯:5', '人:9']\n",
      "['皮卡车:2', '人:10', '车辆:2', '交通灯:5', '狗:1']\n",
      "['皮卡车:2', '人:9', '车辆:2', '交通灯:5']\n",
      "['皮卡车:2', '人:11', '车辆:2', '交通灯:5', '狗:1']\n",
      "['皮卡车:2', '人:11', '交通灯:5', '车辆:2']\n",
      "['皮卡车:2', '人:10', '交通灯:5', '车辆:2']\n",
      "['皮卡车:2', '人:9', '交通灯:5', '车辆:3']\n",
      "['皮卡车:2', '人:10', '车辆:1', '交通灯:5', '狗:1']\n",
      "['皮卡车:2', '人:9', '车辆:2', '交通灯:5', '狗:1']\n",
      "['皮卡车:3', '人:12', '车辆:1', '交通灯:5']\n",
      "['人:11', '皮卡车:2', '交通灯:5', '车辆:2']\n",
      "['人:11', '皮卡车:2', '交通灯:4', '车辆:2']\n",
      "['皮卡车:2', '人:12', '交通灯:4', '车辆:2']\n",
      "['人:10', '皮卡车:2', '交通灯:4', '车辆:2']\n",
      "['人:7', '皮卡车:2', '交通灯:5', '车辆:2']\n"
     ]
    }
   ],
   "source": [
    "with detection_graph.as_default():\n",
    "  with tf.Session(graph=detection_graph) as sess:\n",
    "    while True:\n",
    "      ret, image_np = cap.read()\n",
    "      # Expand dimensions since the model expects images to have shape: [1, None, None, 3]\n",
    "      image_np_expanded = np.expand_dims(image_np, axis=0)\n",
    "      image_tensor = detection_graph.get_tensor_by_name('image_tensor:0')\n",
    "      # Each box represents a part of the image where a particular object was detected.\n",
    "      boxes = detection_graph.get_tensor_by_name('detection_boxes:0')\n",
    "      # Each score represent how level of confidence for each of the objects.\n",
    "      # Score is shown on the result image, together with the class label.\n",
    "      scores = detection_graph.get_tensor_by_name('detection_scores:0')\n",
    "      classes = detection_graph.get_tensor_by_name('detection_classes:0')\n",
    "      num_detections = detection_graph.get_tensor_by_name('num_detections:0')\n",
    "    \n",
    "      # Actual detection.\n",
    "      (boxes, scores, classes, num_detections) = sess.run(\n",
    "          [boxes, scores, classes, num_detections],\n",
    "          feed_dict={image_tensor: image_np_expanded})\n",
    "    \n",
    "      # Visualization of the results of a detection.\n",
    "        \n",
    "      vis_util.visualize_boxes_and_labels_on_image_array(\n",
    "          image_np,\n",
    "          np.squeeze(boxes),\n",
    "          np.squeeze(classes).astype(np.int32),\n",
    "          np.squeeze(scores),\n",
    "          category_index,\n",
    "          use_normalized_coordinates=True,\n",
    "          line_thickness=2)\n",
    "      \n",
    "\n",
    "      writer.write(image_np)\n",
    "      cv2.imshow('object detection', cv2.resize(image_np, (1080,720)))\n",
    "#       cv2.imshow('object detection', image_np)\n",
    "      if cv2.waitKey(25) & 0xFF == ord('q'):\n",
    "#           cv2.destroyAllWindows()\n",
    "          break\n",
    "#     cap.release()\n",
    "cap.release()\n",
    "writer.release()\n",
    "cv2.destroyAllWindows()"
   ]
  },
  {
   "cell_type": "code",
   "execution_count": null,
   "metadata": {},
   "outputs": [],
   "source": []
  },
  {
   "cell_type": "code",
   "execution_count": null,
   "metadata": {},
   "outputs": [],
   "source": []
  }
 ],
 "metadata": {
  "colab": {
   "default_view": {},
   "name": "object_detection_tutorial.ipynb?workspaceId=ronnyvotel:python_inference::citc",
   "provenance": [],
   "version": "0.3.2",
   "views": {}
  },
  "kernelspec": {
   "display_name": "Python 3",
   "language": "python",
   "name": "python3"
  },
  "language_info": {
   "codemirror_mode": {
    "name": "ipython",
    "version": 3
   },
   "file_extension": ".py",
   "mimetype": "text/x-python",
   "name": "python",
   "nbconvert_exporter": "python",
   "pygments_lexer": "ipython3",
   "version": "3.6.3"
  }
 },
 "nbformat": 4,
 "nbformat_minor": 1
}
